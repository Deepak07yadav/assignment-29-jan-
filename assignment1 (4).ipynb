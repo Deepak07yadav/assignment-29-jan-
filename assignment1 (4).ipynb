{
 "cells": [
  {
   "cell_type": "markdown",
   "id": "54c6b789-247d-4fa0-9a84-68f6e57a6b37",
   "metadata": {},
   "source": [
    "#Assignment (29 jan)"
   ]
  },
  {
   "cell_type": "markdown",
   "id": "e7d10b04-a4ee-4073-8806-ad99b6d6d03a",
   "metadata": {},
   "source": [
    "1.Who is the developer of python?\n",
    "\n",
    "ans: Guido van rossum"
   ]
  },
  {
   "cell_type": "markdown",
   "id": "c86ddc63-1759-4a2b-a84f-0d76c60c47df",
   "metadata": {},
   "source": [
    "2.Which type of programing does pyton support?\n",
    "\n",
    "ans: object oriented programing "
   ]
  },
  {
   "cell_type": "markdown",
   "id": "db8c4496-d926-40c7-bf68-180ae35600ce",
   "metadata": {},
   "source": [
    "3.is python case sensitive when dealing with identifiers ?\n",
    "\n",
    "ans:yes"
   ]
  },
  {
   "cell_type": "markdown",
   "id": "49c17a9e-0850-4116-aebb-28fb0adea2a8",
   "metadata": {},
   "source": [
    "4.what is the correct extension of the python file?\n",
    "\n",
    "ans: .py"
   ]
  },
  {
   "cell_type": "markdown",
   "id": "df635b59-ac68-4ec3-82b2-5ba1db2f2674",
   "metadata": {},
   "source": [
    "5.Is python code compiled or interpreted?\n",
    "\n",
    "ans:Iterpreted"
   ]
  },
  {
   "cell_type": "markdown",
   "id": "03ac9194-2353-476d-b9fe-8aa25e6fa1d0",
   "metadata": {},
   "source": [
    "6.Name a few blocks of code used to define in python language?\n",
    "\n",
    "ans:a module,funtion body and a class definiton .Each command typed interactively is a block."
   ]
  },
  {
   "cell_type": "markdown",
   "id": "7fde14f6-330d-4d58-b543-8fcfcdee517c",
   "metadata": {},
   "source": [
    "7.State a character used to give single-line comments in python?\n",
    "\n",
    "ans:\"#\" used to give single line comment."
   ]
  },
  {
   "cell_type": "markdown",
   "id": "4fd2a127-dc2c-4a60-960a-a2facbfd5a1d",
   "metadata": {},
   "source": [
    "8.Mention functions which can help us to find the version of python that we are currently working on?\n",
    "\n",
    "ans:python_version() function is used to find the version of python."
   ]
  },
  {
   "cell_type": "markdown",
   "id": "d1b62596-f5ff-45d7-a1a4-742e44c2c5ba",
   "metadata": {},
   "source": [
    "9.python supports the creation of annonymous functions at run time, suing a construct called?\n",
    "\n",
    "ans:lambda."
   ]
  },
  {
   "cell_type": "markdown",
   "id": "71b0a79f-16df-40de-93f0-3cd90921639a",
   "metadata": {},
   "source": [
    "10.what does pip stand for pyton ?\n",
    "\n",
    "ans:Developed in 2008, pip (an acronym of “pip Install Packages”) is today the standard tool for installing Python packages and their dependencies in a secure manner. Most recent distributions of Python come with pip preinstalled."
   ]
  },
  {
   "cell_type": "markdown",
   "id": "90948899-51b2-4f9e-ba69-5f27d4970c29",
   "metadata": {},
   "source": [
    "11.Menation a few built-in funtions in pyhton?\n",
    "\n",
    "ans: insert(),pop(),list(),print() etc."
   ]
  },
  {
   "cell_type": "markdown",
   "id": "efa15833-198d-4897-953f-a628d9d796c8",
   "metadata": {},
   "source": [
    "12.what are the maximum possible length of an identifier in python?\n",
    "\n",
    "ans:An identifieer can have a maximum length of 79 character in python."
   ]
  },
  {
   "cell_type": "markdown",
   "id": "b218b185-b7f8-4a38-aab1-7f7fd6eccf9d",
   "metadata": {},
   "source": [
    "13.What are the benefits of using python?\n",
    "\n",
    "ans:1.easy to use and understand\n",
    "2.free and open source\n",
    "3.extensible library\n",
    "4.supportive community\n",
    "5.portability\n",
    "6.dynamically typed\n",
    "7.interpreted language"
   ]
  },
  {
   "cell_type": "markdown",
   "id": "e80af346-9a90-4222-a26c-b73897a53cf2",
   "metadata": {},
   "source": [
    "14.How is memory managed in python?\n",
    "\n",
    "ans:The memory is a heap that stores the object of programs and other data structures.The Python memory manager uses API methods to handle the allocation and deallocation of this heap space."
   ]
  },
  {
   "cell_type": "markdown",
   "id": "02dae614-3771-487e-b77b-c452124dbf87",
   "metadata": {},
   "source": [
    "15.How to install python on windows and set path variables?\n",
    "\n",
    "ans:dowload the pyhton on window then apply folowing steps.\n",
    "Right click on My Computer and click on properties.\n",
    "Click on Advanced System settings.\n",
    "Click on Environment Variable tab.\n",
    "Click on new tab of user variables.\n",
    "Write path in variable name.\n",
    "Copy the path of Python folder.\n",
    "Paste path of Python in variable value. Click on Ok button: Click on Ok button"
   ]
  },
  {
   "cell_type": "markdown",
   "id": "c841aeb9-0a22-4802-ae2f-758dfcc5f81a",
   "metadata": {},
   "source": [
    "16.is indentation required in python?\n",
    "\n",
    "ans:yes indentation is required in python."
   ]
  },
  {
   "cell_type": "code",
   "execution_count": null,
   "id": "f3bd5d05-cba3-49db-9259-50f105fa210e",
   "metadata": {},
   "outputs": [],
   "source": []
  }
 ],
 "metadata": {
  "kernelspec": {
   "display_name": "Python 3 (ipykernel)",
   "language": "python",
   "name": "python3"
  },
  "language_info": {
   "codemirror_mode": {
    "name": "ipython",
    "version": 3
   },
   "file_extension": ".py",
   "mimetype": "text/x-python",
   "name": "python",
   "nbconvert_exporter": "python",
   "pygments_lexer": "ipython3",
   "version": "3.10.8"
  },
  "toc-showtags": false
 },
 "nbformat": 4,
 "nbformat_minor": 5
}
